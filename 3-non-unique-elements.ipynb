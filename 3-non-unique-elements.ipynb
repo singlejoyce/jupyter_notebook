{
 "cells": [
  {
   "cell_type": "code",
   "execution_count": null,
   "metadata": {},
   "outputs": [],
   "source": [
    "你将得到一个含有整数（X）的非空列表。在这个任务里，你应该返回在此列表中的非唯一元素的列表。\n",
    "要做到这一点，你需要删除所有独特的元素（这是包含在一个给定的列表只有一次的元素）。解决这个任务时，不能改变列表的顺序。\n",
    "例如：[1，2，3，1，3] 1和3是非唯一元素，结果将是 [1, 3, 1, 3]。\n",
    "\n",
    "输入: 一个含有整数的列表。\n",
    "\n",
    "输出: 一个含有不唯一元素的整数列表。\n",
    "\n",
    "范例:\n",
    "\n",
    "checkio([1, 2, 3, 1, 3]) == [1, 3, 1, 3]\n",
    "checkio([1, 2, 3, 4, 5]) == []\n",
    "checkio([5, 5, 5, 5, 5]) == [5, 5, 5, 5, 5]\n",
    "checkio([10, 9, 10, 10, 9, 8]) == [10, 9, 10, 10, 9]\n",
    "\n",
    "如何使用： 这个任务将帮助您了解如何操作数组，这是解决更复杂的任务的基础。\n",
    "这个概念可以很容易地推广到真实世界的任务。例如你需要通过删除低频的元素（噪声）来使统计数据更清楚。\n",
    "\n",
    "前提:\n",
    "0 < |X| < 1000"
   ]
  },
  {
   "cell_type": "code",
   "execution_count": 1,
   "metadata": {},
   "outputs": [
    {
     "name": "stdout",
     "output_type": "stream",
     "text": [
      "It is all good. Let's check it now\n"
     ]
    }
   ],
   "source": [
    "def checkio(X) -> list:\n",
    "    res = []\n",
    "    for i in X:\n",
    "        if X.count(i) > 1:\n",
    "            res.append(i)\n",
    "    return res\n",
    "\n",
    "\n",
    "if __name__ == \"__main__\":\n",
    "    #These \"asserts\" using only for self-checking and not necessary for auto-testing\n",
    "    assert list(checkio([1, 2, 3, 1, 3])) == [1, 3, 1, 3], \"1st example\"\n",
    "    assert list(checkio([1, 2, 3, 4, 5])) == [], \"2nd example\"\n",
    "    assert list(checkio([5, 5, 5, 5, 5])) == [5, 5, 5, 5, 5], \"3rd example\"\n",
    "    assert list(checkio([10, 9, 10, 10, 9, 8])) == [10, 9, 10, 10, 9], \"4th example\"\n",
    "    print(\"It is all good. Let's check it now\")"
   ]
  },
  {
   "cell_type": "code",
   "execution_count": null,
   "metadata": {},
   "outputs": [],
   "source": []
  }
 ],
 "metadata": {
  "kernelspec": {
   "display_name": "Python 3",
   "language": "python",
   "name": "python3"
  },
  "language_info": {
   "codemirror_mode": {
    "name": "ipython",
    "version": 3
   },
   "file_extension": ".py",
   "mimetype": "text/x-python",
   "name": "python",
   "nbconvert_exporter": "python",
   "pygments_lexer": "ipython3",
   "version": "3.6.5"
  }
 },
 "nbformat": 4,
 "nbformat_minor": 2
}
