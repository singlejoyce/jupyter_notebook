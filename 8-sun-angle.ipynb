{
 "cells": [
  {
   "attachments": {},
   "cell_type": "markdown",
   "metadata": {},
   "source": [
    "Every true traveler must know how to do 3 things: fix the fire, find the water and extract useful information from the nature around him. \n",
    "Programming won't help you with the fire and water, but when it comes to the information extraction - it might be just the thing you need.\n",
    "\n",
    "Your task is to find the angle of the sun above the horizon knowing the time of the day.\n",
    "Input data: the sun rises in the East at 6:00 AM, which corresponds to the angle of 0 degrees.\n",
    "At 12:00 PM the sun reaches its zenith, which means that the angle equals 90 degrees. \n",
    "6:00 PM is the time of the sunset so the angle is 180 degrees. \n",
    "If the input will be the time of the night (before 6:00 AM or after 6:00 PM), your function should return - \"I don't see the sun!\".\n",
    "![title](image1.png)\n",
    "\n",
    "Input: The time of the day.\n",
    "\n",
    "Output: The angle of the sun, rounded to 2 decimal places.\n",
    "\n",
    "Example:\n",
    "\n",
    "sun_angle(\"07:00\") == 15\n",
    "sun_angle(\"12:15\"] == 93.75\n",
    "sun_angle(\"01:23\") == \"I don't see the sun!\"\n",
    "\n",
    "How it is used: One day it can save your life, if you'll be lost far away from civilization.\n",
    "\n",
    "Precondition:\n",
    "00:00 <= time <= 23:59"
   ]
  },
  {
   "cell_type": "code",
   "execution_count": null,
   "metadata": {},
   "outputs": [],
   "source": [
    "def sun_angle(time):\n",
    "    angle_per_minute = 0.25 # 每分钟对应0.25度\n",
    "    angle_per_hour = 15  # 每小时对应15度\n",
    "    time_list = [int(x) for x in time.split(':')]\n",
    "    if time_list[0] < 6 or time_list[0] >= 18 and time_list[1] > 0:\n",
    "        return \"I don't see the sun!\"\n",
    "    else:\n",
    "        return (time_list[0] - 6) * angle_per_hour + time_list[1] * angle_per_minute\n",
    "\n",
    "\n",
    "if __name__ == '__main__':\n",
    "    print(\"Example:\")\n",
    "    print(sun_angle(\"07:10\"))\n",
    "\n",
    "    #These \"asserts\" using only for self-checking and not necessary for auto-testing\n",
    "    assert sun_angle(\"07:00\") == 15\n",
    "    assert sun_angle(\"01:23\") == \"I don't see the sun!\"\n",
    "    print(\"Coding complete? Click 'Check' to earn cool rewards!\")"
   ]
  }
 ],
 "metadata": {
  "kernelspec": {
   "display_name": "Python 3",
   "language": "python",
   "name": "python3"
  },
  "language_info": {
   "codemirror_mode": {
    "name": "ipython",
    "version": 3
   },
   "file_extension": ".py",
   "mimetype": "text/x-python",
   "name": "python",
   "nbconvert_exporter": "python",
   "pygments_lexer": "ipython3",
   "version": "3.6.5"
  }
 },
 "nbformat": 4,
 "nbformat_minor": 2
}
