{
 "cells": [
  {
   "cell_type": "code",
   "execution_count": null,
   "metadata": {},
   "outputs": [],
   "source": [
    "Ever tried to send a secret message to someone without using the postal service? \n",
    "You could use newspapers to tell your secret. \n",
    "Even if someone finds your message, it's easy to brush them off and that its paranoia and a bogus conspiracy theory.\n",
    "One of the simplest ways to hide a secret message is to use capital letters.\n",
    "Let's find some of these secret messages.\n",
    "\n",
    "You are given a chunk of text. Gather all capital letters in one word in the order that they appear in the text.\n",
    "\n",
    "For example: text = \"How are you? Eh, ok. Low or Lower? Ohhh.\", \n",
    "if we collect all of the capital letters, we get the message \"HELLO\".\n",
    "\n",
    "Input: A text as a string (unicode).\n",
    "\n",
    "Output: The secret message as a string or an empty string.\n",
    "\n",
    "Example:\n",
    "\n",
    "find_message(\"How are you? Eh, ok. Low or Lower? Ohhh.\") == \"HELLO\"\n",
    "find_message(\"hello world!\") == \"\"\n",
    "\n",
    "How it is used: This is a simple exercise in working with strings: iterate, recognize and concatenate.\n",
    "\n",
    "Precondition: 0 < len(text) ≤ 1000\n",
    "all(ch in string.printable for ch in text)"
   ]
  },
  {
   "cell_type": "code",
   "execution_count": null,
   "metadata": {},
   "outputs": [],
   "source": [
    "import re\n",
    "\n",
    "def find_message(text: str) -> str:\n",
    "    # demo 1\n",
    "    # total = ''\n",
    "    # for i in list(text):\n",
    "    #     if i.isalpha() and i.isupper():\n",
    "    #         total = total + i\n",
    "    # return total\n",
    "\n",
    "    # demo 2\n",
    "    # return ''.join(re.findall('[A-Z]', text))\n",
    "\n",
    "    # demo 3\n",
    "    return re.sub(r'[^A-Z]', '', text)\n",
    "\n",
    "\n",
    "if __name__ == '__main__':\n",
    "    # These \"asserts\" using only for self-checking and not necessary for auto-testing\n",
    "    find_message(\"How are you? Eh, ok. Low or Lower? Ohhh.\")\n",
    "    assert find_message(\"How are you? Eh, ok. Low or Lower? Ohhh.\") == \"HELLO\", \"hello\"\n",
    "    assert find_message(\"hello world!\") == \"\", \"Nothing\"\n",
    "    assert find_message(\"HELLO WORLD!!!\") == \"HELLOWORLD\", \"Capitals\"\n",
    "    print(\"Coding complete? Click 'Check' to review your tests and earn cool rewards!\")\n"
   ]
  }
 ],
 "metadata": {
  "kernelspec": {
   "display_name": "Python 3",
   "language": "python",
   "name": "python3"
  },
  "language_info": {
   "codemirror_mode": {
    "name": "ipython",
    "version": 3
   },
   "file_extension": ".py",
   "mimetype": "text/x-python",
   "name": "python",
   "nbconvert_exporter": "python",
   "pygments_lexer": "ipython3",
   "version": "3.6.5"
  }
 },
 "nbformat": 4,
 "nbformat_minor": 2
}
