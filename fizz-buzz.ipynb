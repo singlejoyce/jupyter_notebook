{
 "cells": [
  {
   "cell_type": "code",
   "execution_count": null,
   "metadata": {},
   "outputs": [],
   "source": [
    "\"Fizz buzz\" is a word game we will use to teach the robots about division. Let's learn computers.\n",
    "\n",
    "You should write a function that will receive a positive integer and return:\n",
    "\"Fizz Buzz\" if the number is divisible by 3 and by 5;\n",
    "\"Fizz\" if the number is divisible by 3;\n",
    "\"Buzz\" if the number is divisible by 5; \n",
    "The number as a string for other cases.\n",
    "Input: A number as an integer.\n",
    "\n",
    "Output: The answer as a string.\n",
    "\n",
    "Example:\n",
    "\n",
    "checkio(15) == \"Fizz Buzz\"\n",
    "checkio(6) == \"Fizz\"\n",
    "checkio(5) == \"Buzz\"\n",
    "checkio(7) == \"7\""
   ]
  },
  {
   "cell_type": "code",
   "execution_count": null,
   "metadata": {},
   "outputs": [],
   "source": [
    "# Your optional code here\n",
    "# You can import some modules or create additional functions\n",
    "\n",
    "\n",
    "def checkio(number: int) -> str:\n",
    "    # Your code here\n",
    "    # It's main function. Don't remove this function\n",
    "    # It's using for auto-testing and must return a result for check.\n",
    "\n",
    "    # replace this for solution\n",
    "    if not number % 15:\n",
    "        return \"Fizz Buzz\"\n",
    "    elif not number % 5:\n",
    "         return \"Buzz\"\n",
    "    elif not number % 3:\n",
    "         return \"Fizz\"\n",
    "    else:\n",
    "        return str(number)\n",
    "\n",
    "# Some hints:\n",
    "# Convert a number in the string with str(n)\n",
    "\n",
    "# These \"asserts\" using only for self-checking and not necessary for auto-testing\n",
    "if __name__ == '__main__':\n",
    "    assert checkio(15) == \"Fizz Buzz\", \"15 is divisible by 3 and 5\"\n",
    "    assert checkio(6) == \"Fizz\", \"6 is divisible by 3\"\n",
    "    assert checkio(5) == \"Buzz\", \"5 is divisible by 5\"\n",
    "    assert checkio(7) == \"7\", \"7 is not divisible by 3 or 5\"\n",
    "    print(\"Coding complete? Click 'Check' to review your tests and earn cool rewards!\")"
   ]
  }
 ],
 "metadata": {
  "kernelspec": {
   "display_name": "Python 3",
   "language": "python",
   "name": "python3"
  },
  "language_info": {
   "codemirror_mode": {
    "name": "ipython",
    "version": 3
   },
   "file_extension": ".py",
   "mimetype": "text/x-python",
   "name": "python",
   "nbconvert_exporter": "python",
   "pygments_lexer": "ipython3",
   "version": "3.6.5"
  }
 },
 "nbformat": 4,
 "nbformat_minor": 2
}
