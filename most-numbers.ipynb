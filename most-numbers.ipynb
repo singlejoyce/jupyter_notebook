{
 "cells": [
  {
   "cell_type": "code",
   "execution_count": null,
   "metadata": {},
   "outputs": [],
   "source": [
    "Let's work with numbers.\n",
    "\n",
    "You are given an array of numbers (floats). You should find the difference between the maximum and minimum element. \n",
    "Your function should be able to handle an undefined amount of arguments. For an empty argument list, the function should return 0.\n",
    "\n",
    "Floating-point numbers are represented in computer hardware as base 2 (binary) fractions. \n",
    "So we should check the result with ±0.001 precision.\n",
    "Think about how to work with an arbitrary number of arguments.\n",
    "\n",
    "Input: An arbitrary number of arguments as numbers (int, float).\n",
    "\n",
    "Output: The difference between maximum and minimum as a number (int, float).\n",
    "\n",
    "Example:\n",
    "\n",
    "checkio(1, 2, 3) == 2\n",
    "checkio(5, -5) == 10\n",
    "checkio(10.2, -2.2, 0, 1.1, 0.5) == 12.4\n",
    "checkio() == 0\n",
    "\n",
    "How it is used: Here you will learn about passing an undefined amount of arguments to functions.\n",
    "\n",
    "Precondition: 0 ≤ len(args) ≤ 20\n",
    "all(-100 < x < 100 for x in args)\n",
    "all(isinstance(x, (int, float)) for x in args)\n",
    "\n",
    "Your vote gains more value as you grow in level.\n",
    "Starting at level 5 you can upvote a publication twice and starting at level 14, you can upvote something five times!"
   ]
  },
  {
   "cell_type": "code",
   "execution_count": 1,
   "metadata": {},
   "outputs": [
    {
     "name": "stdout",
     "output_type": "stream",
     "text": [
      "Coding complete? Click 'Check' to review your tests and earn cool rewards!\n"
     ]
    }
   ],
   "source": [
    "def checkio(*args):\n",
    "    if args:\n",
    "        return max(args)-min(args)\n",
    "    else:\n",
    "        return 0\n",
    "\n",
    "\n",
    "# These \"asserts\" using only for self-checking and not necessary for auto-testing\n",
    "if __name__ == '__main__':\n",
    "    def almost_equal(checked, correct, significant_digits):\n",
    "        precision = 0.1 ** significant_digits\n",
    "        return correct - precision < checked < correct + precision\n",
    "\n",
    "    assert almost_equal(checkio(1, 2, 3), 2, 3), \"3-1=2\"\n",
    "    assert almost_equal(checkio(5, -5), 10, 3), \"5-(-5)=10\"\n",
    "    assert almost_equal(checkio(10.2, -2.2, 0, 1.1, 0.5), 12.4, 3), \"10.2-(-2.2)=12.4\"\n",
    "    assert almost_equal(checkio(), 0, 3), \"Empty\"\n",
    "    print(\"Coding complete? Click 'Check' to review your tests and earn cool rewards!\")"
   ]
  },
  {
   "cell_type": "code",
   "execution_count": null,
   "metadata": {},
   "outputs": [],
   "source": []
  }
 ],
 "metadata": {
  "kernelspec": {
   "display_name": "Python 3",
   "language": "python",
   "name": "python3"
  },
  "language_info": {
   "codemirror_mode": {
    "name": "ipython",
    "version": 3
   },
   "file_extension": ".py",
   "mimetype": "text/x-python",
   "name": "python",
   "nbconvert_exporter": "python",
   "pygments_lexer": "ipython3",
   "version": "3.6.5"
  }
 },
 "nbformat": 4,
 "nbformat_minor": 2
}
