{
 "cells": [
  {
   "cell_type": "code",
   "execution_count": null,
   "metadata": {},
   "outputs": [],
   "source": [
    "Sofia has had a very stressful month and decided to take a vacation for a week. \n",
    "To avoid any stress during her vacation she wants to forward emails with a stressful subject line to Stephen.\n",
    "\n",
    "The function should recognise if a subject line is stressful. \n",
    "A stressful subject line means that all letters are in uppercase, \n",
    "and/or ends by at least 3 exclamation marks, \n",
    "and/or contains at least one of the following “red” words: \"help\", \"asap\", \"urgent\".\n",
    "Any of those \"red\" words can be spelled in different ways - \"HELP\", \"help\", \"HeLp\", \"H!E!L!P!\", \"H-E-L-P\",\n",
    "even in a very loooong way \"HHHEEEEEEEEELLP\"\n",
    "\n",
    "Input: Subject line as a string.\n",
    "\n",
    "Output: Boolean.\n",
    "\n",
    "Example:\n",
    "\n",
    "is_stressful(\"Hi\") == False\n",
    "is_stressful(\"I neeed HELP\") == True\n",
    "\n",
    "Precondition: Subject can be up to 100 letters\n",
    "    \n",
    "索菲亚这一个月压力很大，决定去度假一周。为了避免在休假期间出现压力，她想把邮件转发给斯蒂芬。\n",
    "该功能应该能识别出主题是否有压力。一个有压力的主题行意味着所有的字母都是大写的，\n",
    "并且/或以至少3个感叹号结尾，\n",
    "并且/或包含以下至少一个“红色”字:“帮助”、“尽快”、“紧急”。\n",
    "任何“红色”的单词都可以用不同的方式拼写——“HELP”、“HELP”、“HELP”、“H!E!L!P!”,\"H-E-L-P\"，\n",
    "即使是很随意的\" HHHEEEEEEELLP\""
   ]
  },
  {
   "cell_type": "code",
   "execution_count": null,
   "metadata": {},
   "outputs": [],
   "source": [
    "import re\n",
    "\n",
    "\n",
    "def is_stressful(subject):\n",
    "    if subject.isupper():\n",
    "        return True\n",
    "    subject = subject.lower()\n",
    "    if subject[-3:] == '!!!':\n",
    "        return True\n",
    "    red_words = [\"help\", \"asap\", \"urgent\"]\n",
    "    if re.search(r\"h\\S*e\\S*l\\S*p\\S*\", subject):\n",
    "        return True\n",
    "    if re.search(r\"a\\S*s\\S*a\\S*p\\S*\", subject):\n",
    "        return True\n",
    "    if re.search(r\"u\\S*r\\S*g\\S*e\\S*n\\S*t\\S*\", subject):\n",
    "        return True\n",
    "    return False\n",
    "\n",
    "\n",
    "def is_stressful2(s):\n",
    "    return any((s.endswith('!!!'), s.isupper(), re.search(r'h+[^\\s]*e+[^\\s]*l+[^\\s]*p', s.lower()),\n",
    "                re.search(r'a+[^\\s]*s+[^\\s]*a+[^\\s]*p', s.lower()),\n",
    "                re.search(r'u+[^\\s]*r+[^\\s]*g+[^\\s]*e+[^\\s]*n+[^\\s]*t', s.lower())\n",
    "                ))\n",
    "\n",
    "\n",
    "if __name__ == '__main__':\n",
    "    # These \"asserts\" using only for self-checking and not necessary for auto-testing\n",
    "    assert is_stressful(\"Hi\") == False, \"First\"\n",
    "    assert is_stressful(\"I neeed HELP\") == True, \"Second\"\n",
    "    print('Done! Go Check it!')"
   ]
  }
 ],
 "metadata": {
  "kernelspec": {
   "display_name": "Python 3",
   "language": "python",
   "name": "python3"
  },
  "language_info": {
   "codemirror_mode": {
    "name": "ipython",
    "version": 3
   },
   "file_extension": ".py",
   "mimetype": "text/x-python",
   "name": "python",
   "nbconvert_exporter": "python",
   "pygments_lexer": "ipython3",
   "version": "3.6.5"
  }
 },
 "nbformat": 4,
 "nbformat_minor": 2
}
