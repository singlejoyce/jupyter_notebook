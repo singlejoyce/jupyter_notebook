{
 "cells": [
  {
   "cell_type": "code",
   "execution_count": null,
   "metadata": {},
   "outputs": [],
   "source": [
    "You are given an array with positive numbers and a number N. \n",
    "You should find the N-th power of the element in the array with the index N. \n",
    "If N is outside of the array, then return -1. \n",
    "Don't forget that the first element has the index 0.\n",
    "\n",
    "Let's look at a few examples:\n",
    "- array = [1, 2, 3, 4] and N = 2, then the result is 32 == 9;\n",
    "- array = [1, 2, 3] and N = 3, but N is outside of the array, so the result is -1.\n",
    "\n",
    "Input: Two arguments. An array as a list of integers and a number as a integer.\n",
    "\n",
    "Output: The result as an integer.\n",
    "\n",
    "Example:\n",
    "\n",
    "index_power([1, 2, 3, 4], 2) == 9\n",
    "index_power([1, 3, 10, 100], 3) == 1000000\n",
    "index_power([0, 1], 0) == 1\n",
    "index_power([1, 2], 3) == -1\n",
    "        \n",
    "How it is used: This mission teaches you how to use basic arrays and indexes when combined with simple mathematics.\n",
    "\n",
    "Precondition: 0 < len(array) ≤ 10\n",
    "0 ≤ N\n",
    "all(0 ≤ x ≤ 100 for x in array)"
   ]
  },
  {
   "cell_type": "code",
   "execution_count": null,
   "metadata": {},
   "outputs": [],
   "source": [
    "def index_power(array: list, n: int) -> int:\n",
    "    \"\"\"\n",
    "        Find Nth power of the element with index N.\n",
    "    \"\"\"\n",
    "    return array[n] ** n if len(array) > n else -1\n",
    "    # return pow(array[n],n) if len(array) > n else -1\n",
    "\n",
    "\n",
    "if __name__ == '__main__':\n",
    "    # These \"asserts\" using only for self-checking and not necessary for auto-testing\n",
    "    assert index_power([1, 2, 3, 4], 2) == 9, \"Square\"\n",
    "    assert index_power([1, 3, 10, 100], 3) == 1000000, \"Cube\"\n",
    "    assert index_power([0, 1], 0) == 1, \"Zero power\"\n",
    "    assert index_power([1, 2], 3) == -1, \"IndexError\"\n",
    "    print(\"Coding complete? Click 'Check' to review your tests and earn cool rewards!\")"
   ]
  }
 ],
 "metadata": {
  "kernelspec": {
   "display_name": "Python 3",
   "language": "python",
   "name": "python3"
  },
  "language_info": {
   "codemirror_mode": {
    "name": "ipython",
    "version": 3
   },
   "file_extension": ".py",
   "mimetype": "text/x-python",
   "name": "python",
   "nbconvert_exporter": "python",
   "pygments_lexer": "ipython3",
   "version": "3.6.5"
  }
 },
 "nbformat": 4,
 "nbformat_minor": 2
}
