{
 "cells": [
  {
   "cell_type": "code",
   "execution_count": null,
   "metadata": {},
   "outputs": [],
   "source": [
    "这个任务是这个系列中的第一个。在这里你应该找到字符串中最长的相同字符重复出现的次数，并返回它的重复次数。\n",
    "例如：字符串“aaabbcaaaa”包含具有相同字母“aaa”，“bb”，“c”和“aaaa”的四个子字符串。 最后一个子字符串是最长的一个字符串，你应该返回 4 。\n",
    "\n",
    "输入: 一个字符串.\n",
    "\n",
    "输出: 一个整数.\n",
    "\n",
    "例子:\n",
    "\n",
    "long_repeat('sdsffffse') == 4\n",
    "long_repeat('ddvvrwwwrggg') == 3"
   ]
  },
  {
   "cell_type": "code",
   "execution_count": 5,
   "metadata": {},
   "outputs": [
    {
     "name": "stdout",
     "output_type": "stream",
     "text": [
      "\"Run\" is good. How is \"Check\"?\n"
     ]
    }
   ],
   "source": [
    "# 方法1\n",
    "# def long_repeat(line):\n",
    "#     count = 0\n",
    "#     for char in line:\n",
    "#         newchar = char\n",
    "#         while(line.count(newchar) > 0):\n",
    "#             newchar += char\n",
    "#         if count < len(newchar)-1:\n",
    "#             count = len(newchar)-1\n",
    "#     return count\n",
    "\n",
    "# 方法2\n",
    "\n",
    "from itertools import groupby\n",
    "\n",
    "def long_repeat(line):\n",
    "    return max((sum(1 for i in g) for k, g in groupby(line)), default=0)\n",
    "\n",
    "\n",
    "\n",
    "if __name__ == '__main__':\n",
    "    #These \"asserts\" using only for self-checking and not necessary for auto-testing\n",
    "    assert long_repeat('sdsffffse') == 4, \"First\"\n",
    "    assert long_repeat('ddvvrwwwrggg') == 3, \"Second\"\n",
    "    assert long_repeat('abababaab') == 2, \"Third\"\n",
    "    assert long_repeat('') == 0, \"Empty\"\n",
    "    print('\"Run\" is good. How is \"Check\"?')"
   ]
  },
  {
   "cell_type": "code",
   "execution_count": null,
   "metadata": {},
   "outputs": [],
   "source": []
  },
  {
   "cell_type": "code",
   "execution_count": null,
   "metadata": {},
   "outputs": [],
   "source": []
  },
  {
   "cell_type": "code",
   "execution_count": null,
   "metadata": {},
   "outputs": [],
   "source": []
  },
  {
   "cell_type": "code",
   "execution_count": null,
   "metadata": {},
   "outputs": [],
   "source": []
  }
 ],
 "metadata": {
  "kernelspec": {
   "display_name": "Python 3",
   "language": "python",
   "name": "python3"
  },
  "language_info": {
   "codemirror_mode": {
    "name": "ipython",
    "version": 3
   },
   "file_extension": ".py",
   "mimetype": "text/x-python",
   "name": "python",
   "nbconvert_exporter": "python",
   "pygments_lexer": "ipython3",
   "version": "3.6.5"
  }
 },
 "nbformat": 4,
 "nbformat_minor": 2
}
