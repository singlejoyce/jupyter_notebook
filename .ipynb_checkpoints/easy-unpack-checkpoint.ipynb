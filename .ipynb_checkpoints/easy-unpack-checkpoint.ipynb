{
 "cells": [
  {
   "cell_type": "code",
   "execution_count": null,
   "metadata": {},
   "outputs": [],
   "source": [
    "在这里你的任务是创建得到一个元组，并返回一个包含三个元素（第一，第三和倒数第二的给定元组）的元组与的功能。\n",
    "\n",
    "输入: 一个不少于三个元素的元组\n",
    "\n",
    "输出: 一个元组.\n",
    "\n",
    "举个栗子:\n",
    "\n",
    "easy_unpack((1, 2, 3, 4, 5, 6, 7, 9)) == (1, 3, 7)\n",
    "easy_unpack((1, 1, 1, 1)) == (1, 1, 1)\n",
    "easy_unpack((6, 3, 7)) == (6, 7, 3)"
   ]
  },
  {
   "cell_type": "code",
   "execution_count": null,
   "metadata": {},
   "outputs": [],
   "source": [
    "def easy_unpack(elements: tuple) -> tuple:\n",
    "    \"\"\"\n",
    "        returns a tuple with 3 elements - first, third and second to the last\n",
    "    \"\"\"\n",
    "    # your code here\n",
    "    return elements[0], elements[2], elements[-2]\n",
    "\n",
    "\n",
    "if __name__ == '__main__':\n",
    "    # These \"asserts\" using only for self-checking and not necessary for auto-testing\n",
    "    assert easy_unpack((1, 2, 3, 4, 5, 6, 7, 9)) == (1, 3, 7)\n",
    "    assert easy_unpack((1, 1, 1, 1)) == (1, 1, 1)\n",
    "    assert easy_unpack((6, 3, 7)) == (6, 7, 3)\n",
    "    print('Done! Go Check!')\n"
   ]
  }
 ],
 "metadata": {
  "kernelspec": {
   "display_name": "Python 3",
   "language": "python",
   "name": "python3"
  },
  "language_info": {
   "codemirror_mode": {
    "name": "ipython",
    "version": 3
   },
   "file_extension": ".py",
   "mimetype": "text/x-python",
   "name": "python",
   "nbconvert_exporter": "python",
   "pygments_lexer": "ipython3",
   "version": "3.6.5"
  }
 },
 "nbformat": 4,
 "nbformat_minor": 2
}
