{
 "cells": [
  {
   "cell_type": "code",
   "execution_count": null,
   "metadata": {},
   "outputs": [],
   "source": [
    "Let's teach the Robots to distinguish words and numbers.\n",
    "\n",
    "You are given a string with words and numbers separated by whitespaces (one space). \n",
    "The words contains only letters. You should check if the string contains three words in succession. \n",
    "For example, the string \"start 5 one two three 7 end\" contains three words in succession.\n",
    "\n",
    "Input: A string with words.\n",
    "\n",
    "Output: The answer as a boolean.\n",
    "\n",
    "Example:\n",
    "\n",
    "checkio(\"Hello World hello\") == True\n",
    "checkio(\"He is 123 man\") == False\n",
    "checkio(\"1 2 3 4\") == False\n",
    "checkio(\"bla bla bla bla\") == True\n",
    "checkio(\"Hi\") == False\n",
    "\n",
    "How it is used: This teaches you how to work with strings and introduces some useful functions.\n",
    "\n",
    "Precondition: The input contains words and/or numbers. There are no mixed words (letters and digits combined).\n",
    "0 < len(words) < 100\n",
    "\n",
    "\n",
    "让我们教机器人区分单词和数字。\n",
    "给你一个字符串，用空白（一个空格）分隔单词和数字。 单词只包含字母。 \n",
    "您应该检查字符串是否包含三个字连续。 例如，字符串“start 5 one two three 7 end”连续包含三个单词。\n",
    "输入：包含文字的字符串。\n",
    "输出：作为布尔值的答案。"
   ]
  },
  {
   "cell_type": "code",
   "execution_count": null,
   "metadata": {},
   "outputs": [],
   "source": [
    "import re\n",
    "\n",
    "\n",
    "def checkio(words: str) -> bool:\n",
    "    # demo 1\n",
    "    # c = 0\n",
    "    # for i in words.split():  # 将用split方法分割的字符串for循环遍历\n",
    "    #     if i.isalpha():  # 如果是字母的话则c自增1\n",
    "    #         c += 1\n",
    "    #     else:  # 关键点在这，如果其中有一次不是字母，都将c=0\n",
    "    #         c = 0\n",
    "    #     if c >= 3:  # 如果连续三次都是字母返回True\n",
    "    #         return True\n",
    "    # else:\n",
    "    #     return False\n",
    "\n",
    "    # demo 2\n",
    "    # if re.search('\\s?([a-zA-Z]+\\s){2}[a-zA-Z]+\\s?', words):\n",
    "    #     return True\n",
    "    # else:\n",
    "    #     return False\n",
    "\n",
    "    # demo 3\n",
    "    # return bool(re.search(r'[a-zA-Z]+\\s[a-zA-Z]+\\s[a-zA-Z]+', words, flags=re.I))\n",
    "    return bool(re.findall('\\D+\\s\\D+\\s\\D+', words))\n",
    "\n",
    "\n",
    "# These \"asserts\" using only for self-checking and not necessary for auto-testing\n",
    "if __name__ == '__main__':\n",
    "    assert checkio(\"Hello World hello\") == True, \"Hello\"\n",
    "    assert checkio(\"He is 123 man\") == False, \"123 man\"\n",
    "    assert checkio(\"1 2 3 4\") == False, \"Digits\"\n",
    "    assert checkio(\"bla bla bla bla\") == True, \"Bla Bla\"\n",
    "    assert checkio(\"Hi\") == False, \"Hi\"\n",
    "    assert checkio(\"one two 3 four five six 7 eight 9 ten eleven 12\") == True, \"four five six\"\n",
    "    print(\"Coding complete? Click 'Check' to review your tests and earn cool rewards!\")\n"
   ]
  }
 ],
 "metadata": {
  "kernelspec": {
   "display_name": "Python 3",
   "language": "python",
   "name": "python3"
  },
  "language_info": {
   "codemirror_mode": {
    "name": "ipython",
    "version": 3
   },
   "file_extension": ".py",
   "mimetype": "text/x-python",
   "name": "python",
   "nbconvert_exporter": "python",
   "pygments_lexer": "ipython3",
   "version": "3.6.5"
  }
 },
 "nbformat": 4,
 "nbformat_minor": 2
}
