{
 "cells": [
  {
   "cell_type": "code",
   "execution_count": null,
   "metadata": {},
   "outputs": [],
   "source": [
    "You are given a string and two markers (the initial and final). You have to find a substring enclosed between these two markers. \n",
    "But there are a few important conditions:\n",
    "\n",
    "The initial and final markers are always different.\n",
    "If there is no initial marker then the beginning should be considered as the beginning of a string.\n",
    "If there is no final marker then the ending should be considered as the ending of a string.\n",
    "If the initial and final markers are missing then simply return the whole string.\n",
    "If the final marker is standing in front of the initial one then return an empty string.\n",
    "Input: Three arguments. All of them are strings. The second and third arguments are the initial and final markers.\n",
    "\n",
    "Output: A string.\n",
    "\n",
    "Example:\n",
    "\n",
    "between_markers('What is >apple<', '>', '<') == 'apple'\n",
    "between_markers('No[/b] hi', '[b]', '[/b]') == 'No'\n",
    "1\n",
    "2\n",
    "How it is used: for parsing texts\n",
    "\n",
    "Precondition: can't be more than one final marker and can't be more than one initial\n",
    "    \n",
    "给你一个字符串和两个标记（初始和最终）。你必须找到这两个标记之间的子串。\n",
    "但是有一些重要的条件：初始和最终标记总是不同的。\n",
    "如果没有初始标记，则应将开头视为字符串的开头。\n",
    "如果没有最终标记，那么结尾应该被视为字符串的结尾。\n",
    "如果缺少初始和最终标记，则只返回整个字符串。\n",
    "如果最终标记位于初始标记的前面，则返回空字符串。\n",
    "\n",
    "输入：三个参数。所有这些都是字符串。第二个和第三个参数是初始和最终标记。\n",
    "输出：一个字符串。"
   ]
  },
  {
   "cell_type": "code",
   "execution_count": null,
   "metadata": {},
   "outputs": [],
   "source": [
    "import re\n",
    "\n",
    "\n",
    "def between_markers(text: str, begin: str, end: str) -> str:\n",
    "    \"\"\"\n",
    "        returns substring between two given markers\n",
    "    \"\"\"\n",
    "    try:\n",
    "        start = text.index(begin) + len(begin)\n",
    "    except ValueError:\n",
    "        start = 0\n",
    "    try:\n",
    "        finish = text.index(end)\n",
    "    except ValueError:\n",
    "        finish = len(text)\n",
    "\n",
    "    return text[start:finish]\n",
    "\n",
    "\n",
    "if __name__ == '__main__':\n",
    "    print('Example:')\n",
    "    print(between_markers('What is >apple<', '>', '<'))\n",
    "\n",
    "    # These \"asserts\" are used for self-checking and not for testing\n",
    "    assert between_markers('What is >apple<', '>', '<') == \"apple\", \"One sym\"\n",
    "    assert between_markers(\"<head><title>My new site</title></head>\",\n",
    "                           \"<title>\", \"</title>\") == \"My new site\", \"HTML\"\n",
    "    assert between_markers('No[/b] hi', '[b]', '[/b]') == 'No', 'No opened'\n",
    "    assert between_markers('No [b]hi', '[b]', '[/b]') == 'hi', 'No close'\n",
    "    assert between_markers('No hi', '[b]', '[/b]') == 'No hi', 'No markers at all'\n",
    "    assert between_markers('No <hi>', '>', '<') == '', 'Wrong direction'\n",
    "    print('Wow, you are doing pretty good. Time to check it!')"
   ]
  }
 ],
 "metadata": {
  "kernelspec": {
   "display_name": "Python 3",
   "language": "python",
   "name": "python3"
  },
  "language_info": {
   "codemirror_mode": {
    "name": "ipython",
    "version": 3
   },
   "file_extension": ".py",
   "mimetype": "text/x-python",
   "name": "python",
   "nbconvert_exporter": "python",
   "pygments_lexer": "ipython3",
   "version": "3.6.5"
  }
 },
 "nbformat": 4,
 "nbformat_minor": 2
}
