{
 "cells": [
  {
   "cell_type": "code",
   "execution_count": null,
   "metadata": {},
   "outputs": [],
   "source": [
    "One of the robots is charged with a simple task: \n",
    "to join a sequence of strings into one sentence to produce instructions on how to get around the ship. \n",
    "But this robot is left-handed and has a tendency to joke around and confuse its right-handed friends.\n",
    "\n",
    "You are given a sequence of strings. \n",
    "You should join these strings into chunk of text where the initial strings are separated by commas. \n",
    "As a joke on the right handed robots, you should replace all cases of the words \"right\" with the word \"left\", \n",
    "even if it's a part of another word. All strings are given in lowercase.\n",
    "\n",
    "Input: A sequence of strings as a tuple of strings (unicode).\n",
    "\n",
    "Output: The text as a string.\n",
    "\n",
    "Example:\n",
    "\n",
    "left_join((\"left\", \"right\", \"left\", \"stop\")) == \"left,left,left,stop\"\n",
    "left_join((\"bright aright\", \"ok\")) == \"bleft aleft,ok\"\n",
    "left_join((\"brightness wright\",)) == \"bleftness wleft\"\n",
    "left_join((\"enough\", \"jokes\")) == \"enough,jokes\"\n",
    "    \n",
    "\n",
    "How it is used: This is a simple example of operations using strings and sequences.\n",
    "\n",
    "Precondition:\n",
    "0 < len(phrases) < 42"
   ]
  },
  {
   "cell_type": "code",
   "execution_count": null,
   "metadata": {},
   "outputs": [],
   "source": [
    "def left_join(phrases):\n",
    "    \"\"\"\n",
    "        Join strings and replace \"right\" to \"left\"\n",
    "    \"\"\"\n",
    "    # 先以逗号拼接字符，然后进行字符串替换\n",
    "    return ','.join(phrases).replace('right', 'left')\n",
    "\n",
    "if __name__ == '__main__':\n",
    "    #These \"asserts\" using only for self-checking and not necessary for auto-testing\n",
    "    assert left_join((\"left\", \"right\", \"left\", \"stop\")) == \"left,left,left,stop\", \"All to left\"\n",
    "    assert left_join((\"bright aright\", \"ok\")) == \"bleft aleft,ok\", \"Bright Left\"\n",
    "    assert left_join((\"brightness wright\",)) == \"bleftness wleft\", \"One phrase\"\n",
    "    assert left_join((\"enough\", \"jokes\")) == \"enough,jokes\", \"Nothing to replace\"\n",
    "    print(\"Coding complete? Click 'Check' to review your tests and earn cool rewards!\")"
   ]
  }
 ],
 "metadata": {
  "kernelspec": {
   "display_name": "Python 3",
   "language": "python",
   "name": "python3"
  },
  "language_info": {
   "codemirror_mode": {
    "name": "ipython",
    "version": 3
   },
   "file_extension": ".py",
   "mimetype": "text/x-python",
   "name": "python",
   "nbconvert_exporter": "python",
   "pygments_lexer": "ipython3",
   "version": "3.6.5"
  }
 },
 "nbformat": 4,
 "nbformat_minor": 2
}
