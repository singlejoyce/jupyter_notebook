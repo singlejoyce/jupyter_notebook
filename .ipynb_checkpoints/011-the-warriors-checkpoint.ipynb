{
 "cells": [
  {
   "cell_type": "markdown",
   "metadata": {},
   "source": [
    "                                      \n",
    "![title](warrior.png)\n",
    "                                              \n",
    "Example:\n",
    "\n",
    "chuck = Warrior()  \n",
    "bruce = Warrior()  \n",
    "carl = Knight()  \n",
    "dave = Warrior()  \n",
    "\n",
    "\n",
    "fight(chuck, bruce) == True  \n",
    "fight(dave, carl) == False  \n",
    "chuck.is_alive == True  \n",
    "bruce.is_alive == False  \n",
    "carl.is_alive == True  \n",
    "dave.is_alive == False  \n",
    "\n",
    "Input: The warriors.  \n",
    "\n",
    "Output: The result of the duel (True or False).  \n",
    "\n",
    "How it is used: For computer games development.  \n",
    "\n",
    "Precondition: 2 types of units  "
   ]
  },
  {
   "cell_type": "code",
   "execution_count": null,
   "metadata": {},
   "outputs": [],
   "source": [
    "class Warrior:\n",
    "    def __init__(self):\n",
    "        self.health = 50\n",
    "        self.attack = 5\n",
    "\n",
    "    @property\n",
    "    def is_alive(self) -> bool:\n",
    "        return self.health >= 0\n",
    "\n",
    "\n",
    "class Knight(Warrior):\n",
    "    def __init__(self):\n",
    "        super().__init__()\n",
    "        self.attack = 7\n",
    "\n",
    "\n",
    "def fight(unit_1, unit_2):\n",
    "    while unit_1.is_alive and unit_2.is_alive:\n",
    "        unit_2.health -= unit_1.attack\n",
    "        if unit_2.is_alive:\n",
    "            unit_1.health -= unit_2.attack\n",
    "    return unit_1.is_alive\n",
    "\n",
    "\n",
    "if __name__ == '__main__':\n",
    "    # These \"asserts\" using only for self-checking and not necessary for auto-testing\n",
    "\n",
    "    chuck = Warrior()\n",
    "    bruce = Warrior()\n",
    "    carl = Knight()\n",
    "    dave = Warrior()\n",
    "    mark = Warrior()\n",
    "\n",
    "    assert fight(chuck, bruce) == True\n",
    "    assert fight(dave, carl) == False\n",
    "    assert chuck.is_alive == True\n",
    "    assert bruce.is_alive == False\n",
    "    assert carl.is_alive == True\n",
    "    assert dave.is_alive == False\n",
    "    assert fight(carl, mark) == False\n",
    "    assert carl.is_alive == False\n",
    "\n",
    "    print(\"Coding complete? Let's try tests!\")"
   ]
  }
 ],
 "metadata": {
  "kernelspec": {
   "display_name": "Python 3",
   "language": "python",
   "name": "python3"
  },
  "language_info": {
   "codemirror_mode": {
    "name": "ipython",
    "version": 3
   },
   "file_extension": ".py",
   "mimetype": "text/x-python",
   "name": "python",
   "nbconvert_exporter": "python",
   "pygments_lexer": "ipython3",
   "version": "3.6.5"
  }
 },
 "nbformat": 4,
 "nbformat_minor": 2
}
