{
 "cells": [
  {
   "cell_type": "code",
   "execution_count": null,
   "metadata": {},
   "outputs": [],
   "source": [
    "给你一个整数数组，需要你把具有偶数索引的元素相加（0，2，4 ...），然后把相加后得到的数与最后一个元素相乘。\n",
    "不要忘记，第一个元素的索引是0。\n",
    "\n",
    "如果传入的是一个空数组，则应该返回0。\n",
    "\n",
    "输入: 一个整数列表\n",
    "\n",
    "输出: 你得出的答案（整数值类型）\n",
    "\n",
    "举个栗子:\n",
    "\n",
    "checkio([0, 1, 2, 3, 4, 5]) == 30\n",
    "checkio([1, 3, 5]) == 30\n",
    "checkio([6]) == 36\n",
    "checkio([]) == 0\n",
    "\n",
    "应该怎么做: 索引和切片是Python和其他语言编码的重要元素。 这将派上用场！\n",
    "\n",
    "前提条件: 0 ≤ len(array) ≤ 20\n",
    "all(isinstance(x, int) for x in array)\n",
    "all(-100 < x < 100 for x in array)"
   ]
  },
  {
   "cell_type": "code",
   "execution_count": null,
   "metadata": {},
   "outputs": [],
   "source": [
    "def checkio(array):\n",
    "    \"\"\"\n",
    "        sums even-indexes elements and multiply at the last\n",
    "    \"\"\"\n",
    "#     sum = 0\n",
    "#     if len(array) == 0:\n",
    "#         return 0\n",
    "#     for i in range(len(array)):\n",
    "#         if not i % 2:\n",
    "#             sum = sum + array[i]\n",
    "#     return sum * array[-1]\n",
    "     return sum(array[::2]) * array[-1] if array else 0\n",
    "\n",
    "#These \"asserts\" using only for self-checking and not necessary for auto-testing\n",
    "if __name__ == '__main__':\n",
    "    assert checkio([0, 1, 2, 3, 4, 5]) == 30, \"(0+2+4)*5=30\"\n",
    "    assert checkio([1, 3, 5]) == 30, \"(1+5)*5=30\"\n",
    "    assert checkio([6]) == 36, \"(6)*6=36\"\n",
    "    assert checkio([]) == 0, \"An empty array = 0\"\n",
    "    print(\"Coding complete? Click 'Check' to review your tests and earn cool rewards!\")"
   ]
  }
 ],
 "metadata": {
  "kernelspec": {
   "display_name": "Python 3",
   "language": "python",
   "name": "python3"
  },
  "language_info": {
   "codemirror_mode": {
    "name": "ipython",
    "version": 3
   },
   "file_extension": ".py",
   "mimetype": "text/x-python",
   "name": "python",
   "nbconvert_exporter": "python",
   "pygments_lexer": "ipython3",
   "version": "3.6.5"
  }
 },
 "nbformat": 4,
 "nbformat_minor": 2
}
