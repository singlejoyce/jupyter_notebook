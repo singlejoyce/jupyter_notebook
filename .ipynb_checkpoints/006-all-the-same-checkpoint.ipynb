{
 "cells": [
  {
   "cell_type": "code",
   "execution_count": null,
   "metadata": {},
   "outputs": [],
   "source": [
    "你本关的任务是检查给定的列表，判断是否其中所有的元素都相等。\n",
    "\n",
    "输入: 列表\n",
    "\n",
    "输出: 布尔值\n",
    "\n",
    "范例:\n",
    "\n",
    "all_the_same([1, 1, 1]) == True\n",
    "all_the_same([1, 2, 1]) == False\n",
    "all_the_same(['a', 'a', 'a']) == True\n",
    "all_the_same([]) == True\n",
    "\n",
    "前提: 输入的列表中的所有元素均是可哈希的。"
   ]
  },
  {
   "cell_type": "code",
   "execution_count": 2,
   "metadata": {},
   "outputs": [
    {
     "name": "stdout",
     "output_type": "stream",
     "text": [
      "Example:\n",
      "False\n",
      "Coding complete? Click 'Check' to earn cool rewards!\n"
     ]
    }
   ],
   "source": [
    "from typing import List, Any\n",
    "\n",
    "\n",
    "def all_the_same(elements):\n",
    "    # return True if len(set(elements)) <= 1 else False\n",
    "    # 将第一个元素置换到最后一个元素，对比2个list\n",
    "    # return elements == elements[1:] + elements[:1]\n",
    "    # 去掉第一个元素后list，去掉最后一个元素的list，对比2个list\n",
    "    return elements[1:] == elements[:-1]\n",
    "\n",
    "if __name__ == '__main__':\n",
    "    print(\"Example:\")\n",
    "    print(all_the_same([1, 2, 1]))\n",
    "\n",
    "    # These \"asserts\" are used for self-checking and not for an auto-testing\n",
    "    assert all_the_same([1, 1, 1]) == True\n",
    "    assert all_the_same([1, 2, 1]) == False\n",
    "    assert all_the_same(['a', 'a', 'a']) == True\n",
    "    assert all_the_same([]) == True\n",
    "    assert all_the_same([1]) == True\n",
    "    print(\"Coding complete? Click 'Check' to earn cool rewards!\")"
   ]
  },
  {
   "cell_type": "code",
   "execution_count": null,
   "metadata": {},
   "outputs": [],
   "source": []
  }
 ],
 "metadata": {
  "kernelspec": {
   "display_name": "Python 3",
   "language": "python",
   "name": "python3"
  },
  "language_info": {
   "codemirror_mode": {
    "name": "ipython",
    "version": 3
   },
   "file_extension": ".py",
   "mimetype": "text/x-python",
   "name": "python",
   "nbconvert_exporter": "python",
   "pygments_lexer": "ipython3",
   "version": "3.6.5"
  }
 },
 "nbformat": 4,
 "nbformat_minor": 2
}
