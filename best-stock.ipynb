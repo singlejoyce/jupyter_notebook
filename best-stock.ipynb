{
 "cells": [
  {
   "cell_type": "code",
   "execution_count": null,
   "metadata": {},
   "outputs": [],
   "source": [
    "You are given the current stock prices. You have to find out which stocks cost more.\n",
    "\n",
    "Input: The dictionary where the market identifier code is a key and the value is a stock price.\n",
    "\n",
    "Output: A string and the market identifier code.\n",
    "    \n",
    "Example:\n",
    "\n",
    "best_stock({\n",
    "    'CAC': 10.0,\n",
    "    'ATX': 390.2,\n",
    "    'WIG': 1.2\n",
    "}) == 'ATX'\n",
    "best_stock({\n",
    "    'CAC': 91.1,\n",
    "    'ATX': 1.01,\n",
    "    'TASI': 120.9\n",
    "}) == 'TASI'\n",
    "\n",
    "Preconditions: All the prices are unique.    \n",
    "    \n",
    "您将获得当前的股票价格。你必须找出哪些股票的成本更高。\n",
    "输入：市场标识符代码是键的字典，值是股票价格。\n",
    "输出：字符串和市场标识符代码。"
   ]
  },
  {
   "cell_type": "code",
   "execution_count": null,
   "metadata": {},
   "outputs": [],
   "source": [
    "def best_stock(data):\n",
    "#     for k, v in data.items():\n",
    "#         if v == sorted(data.values())[-1]:  #  if v == sorted(data.values(),reverse=True)[0]:\n",
    "#             return k\n",
    "    # code2\n",
    "    val = max(set(data.values()))\n",
    "    for item in data:\n",
    "        if data.get(item) == val:\n",
    "            return item\n",
    "        \n",
    "\n",
    "if __name__ == '__main__':\n",
    "    print(\"Example:\")\n",
    "    print(best_stock({\n",
    "        'CAC': 10.0,\n",
    "        'ATX': 390.2,\n",
    "        'WIG': 1.2\n",
    "    }))\n",
    "\n",
    "    # These \"asserts\" are used for self-checking and not for an auto-testing\n",
    "    assert best_stock({\n",
    "        'CAC': 10.0,\n",
    "        'ATX': 390.2,\n",
    "        'WIG': 1.2\n",
    "    }) == 'ATX', \"First\"\n",
    "    assert best_stock({\n",
    "        'CAC': 91.1,\n",
    "        'ATX': 1.01,\n",
    "        'TASI': 120.9\n",
    "    }) == 'TASI', \"Second\"\n",
    "    print(\"Coding complete? Click 'Check' to earn cool rewards!\")"
   ]
  }
 ],
 "metadata": {
  "kernelspec": {
   "display_name": "Python 3",
   "language": "python",
   "name": "python3"
  },
  "language_info": {
   "codemirror_mode": {
    "name": "ipython",
    "version": 3
   },
   "file_extension": ".py",
   "mimetype": "text/x-python",
   "name": "python",
   "nbconvert_exporter": "python",
   "pygments_lexer": "ipython3",
   "version": "3.6.5"
  }
 },
 "nbformat": 4,
 "nbformat_minor": 2
}
