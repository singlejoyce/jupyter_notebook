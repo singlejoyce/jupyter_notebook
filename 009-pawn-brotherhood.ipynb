{
 "cells": [
  {
   "cell_type": "markdown",
   "metadata": {},
   "source": [
    "给定一个8*8的棋盘，同时给定8个棋子的位置。如果某一个棋子的位置可以由其他棋子一步到达，则认为该棋子安全。\n",
    "\n",
    "一个棋子可以通过移动到那个方格，在相邻文件上的对角线前方对角线上捕捉对手的棋子。\n",
    "判断8个棋子中安全的棋子的个数。 如图所示，左边的安全棋子个数为6，右边的位1。\n",
    "\n",
    "![title](image2.png)\n",
    "\n",
    "safe_pawns({\"b4\", \"d4\", \"f4\", \"c3\", \"e3\", \"g5\", \"d2\"}) == 6\n",
    "safe_pawns({\"b4\", \"c4\", \"d4\", \"e4\", \"f4\", \"g4\", \"e5\"}) == 1\n",
    "思路：遍历给定的集合（set）里面的所有元素，然后转换为list。然后利用ord 和chr 转换求出该棋子左下和右下的棋子的位置坐标。如果该坐标在原来的集合中，则num+1。最后返回num。 "
   ]
  },
  {
   "cell_type": "code",
   "execution_count": null,
   "metadata": {},
   "outputs": [],
   "source": [
    "def safe_pawns(pawns):\n",
    "    num = 0\n",
    "    for i in pawns:\n",
    "        testlist = list(i)\n",
    "        # b=a[0]+chr((ord(a[1])-1))\n",
    "        left_pos = chr(ord(testlist[0]) - 1) + chr((ord(testlist[1]) - 1))\n",
    "        right_pos = chr(ord(testlist[0]) + 1) + chr((ord(testlist[1]) - 1))\n",
    "        print(left_pos, right_pos)\n",
    "        if left_pos in pawns or right_pos in pawns:\n",
    "            num += 1\n",
    "    return num\n",
    "\n",
    "\n",
    "if __name__ == '__main__':\n",
    "    # These \"asserts\" using only for self-checking and not necessary for auto-testing\n",
    "    assert safe_pawns({\"b4\", \"d4\", \"f4\", \"c3\", \"e3\", \"g5\", \"d2\"}) == 6\n",
    "    assert safe_pawns({\"b4\", \"c4\", \"d4\", \"e4\", \"f4\", \"g4\", \"e5\"}) == 1\n",
    "    print(\"Coding complete? Click 'Check' to review your tests and earn cool rewards!\")\n"
   ]
  }
 ],
 "metadata": {
  "kernelspec": {
   "display_name": "Python 3",
   "language": "python",
   "name": "python3"
  },
  "language_info": {
   "codemirror_mode": {
    "name": "ipython",
    "version": 3
   },
   "file_extension": ".py",
   "mimetype": "text/x-python",
   "name": "python",
   "nbconvert_exporter": "python",
   "pygments_lexer": "ipython3",
   "version": "3.6.5"
  }
 },
 "nbformat": 4,
 "nbformat_minor": 2
}
