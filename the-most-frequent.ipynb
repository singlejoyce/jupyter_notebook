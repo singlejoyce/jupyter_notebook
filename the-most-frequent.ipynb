{
 "cells": [
  {
   "cell_type": "code",
   "execution_count": null,
   "metadata": {},
   "outputs": [],
   "source": [
    "你有一系列字符串，你要从中找出出现频率最高的字符串。\n",
    "\n",
    "输入: 一个字符串组成的列表\n",
    "\n",
    "输出: 一个字符串.\n",
    "\n",
    "举个栗子:\n",
    "\n",
    "most_frequent([\n",
    "        'a', 'b', 'c', \n",
    "        'a', 'b',\n",
    "        'a'\n",
    "    ]) == 'a'\n",
    "\n",
    "most_frequent(['a', 'a', 'bi', 'bi', 'bi']) == 'bi'"
   ]
  },
  {
   "cell_type": "code",
   "execution_count": null,
   "metadata": {},
   "outputs": [],
   "source": [
    "def most_frequent(data: list) -> str:\n",
    "    \"\"\"\n",
    "        determines the most frequently occurring string in the sequence.\n",
    "    \"\"\"\n",
    "    # your code here\n",
    "    return max(data, key=data.count)\n",
    "\n",
    "\n",
    "if __name__ == '__main__':\n",
    "    # These \"asserts\" using only for self-checking and not necessary for auto-testing\n",
    "    print('Example:')\n",
    "    print(most_frequent([\n",
    "        'a', 'b', 'c',\n",
    "        'a', 'b',\n",
    "        'a'\n",
    "    ]))\n",
    "\n",
    "    assert most_frequent([\n",
    "        'a', 'b', 'c',\n",
    "        'a', 'b',\n",
    "        'a'\n",
    "    ]) == 'a'\n",
    "\n",
    "    assert most_frequent(['a', 'a', 'bi', 'bi', 'bi']) == 'bi'\n",
    "    print('Done')"
   ]
  }
 ],
 "metadata": {
  "kernelspec": {
   "display_name": "Python 3",
   "language": "python",
   "name": "python3"
  },
  "language_info": {
   "codemirror_mode": {
    "name": "ipython",
    "version": 3
   },
   "file_extension": ".py",
   "mimetype": "text/x-python",
   "name": "python",
   "nbconvert_exporter": "python",
   "pygments_lexer": "ipython3",
   "version": "3.6.5"
  }
 },
 "nbformat": 4,
 "nbformat_minor": 2
}
