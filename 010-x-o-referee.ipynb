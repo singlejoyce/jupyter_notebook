{
 "cells": [
  {
   "cell_type": "markdown",
   "metadata": {},
   "source": [
    "井字游戏，有时也被称为“进攻和防守”，是一个两人玩家（X和O）轮流标志着3×3的网格的空间的连珠游戏。\n",
    "最先在任意一条直线（水平线，垂直线或对角线）上成功连接三个标记的一方获胜。\n",
    "\n",
    "但我们不去玩这个游戏。你将是这个游戏的裁判。你被赋予游戏的结果，以及你必须判断游戏是平局还是有人胜出，以及谁将会成为最后的赢家。\n",
    "如果X玩家获胜，返回“X”。如果O玩家获胜，返回“O”。如果比赛是平局，返回“D”。\n",
    "\n",
    "![title](x-o-referee.png)\n",
    "\n",
    "游戏的结果是作为字符串形式的列表，其中“X”和“O”是玩家的标志，“.”是空格。\n",
    "\n",
    "输入: 游戏结果作为字符串形式的列表(Unicode)。\n",
    "\n",
    "输出: “X”，“O”或“D”作为字符串形式。\n",
    "\n",
    "范例:\n",
    "\n",
    "checkio([\n",
    "    \"X.O\",\n",
    "    \"XX.\",\n",
    "    \"XOO\"]) == \"X\"\n",
    "\n",
    "checkio([\n",
    "    \"OO.\",\n",
    "    \"XOX\",\n",
    "    \"XOX\"]) == \"O\"\n",
    "\n",
    "checkio([\n",
    "    \"OOX\",\n",
    "    \"XXO\",\n",
    "    \"OXX\"]) == \"D\"\n",
    "\n",
    "如何使用： 此任务中的概念将有助于您遍历数据类型。这还可以用在游戏的算法上，让你知道如何去检查结果。\n",
    "\n",
    "前提:\n",
    "要么有一个赢家，要么平局\n",
    "len(game_result) == 3\n",
    "all(len(row) == 3 for row in game_result)"
   ]
  },
  {
   "cell_type": "code",
   "execution_count": 4,
   "metadata": {},
   "outputs": [
    {
     "name": "stdout",
     "output_type": "stream",
     "text": [
      "Example:\n",
      "['X.O', 'XX.', 'XOO', 'XXX', '.XO', 'O.O', 'XXO', 'OXX']\n",
      "X\n",
      "['X.O', 'XX.', 'XOO', 'XXX', '.XO', 'O.O', 'XXO', 'OXX']\n",
      "['OO.', 'XOX', 'XOX', 'OXX', 'OOO', '.XX', 'OOX', '.OX']\n",
      "['OOX', 'XXO', 'OXX', 'OXO', 'OXX', 'XOX', 'OXX', 'XXO']\n",
      "['O.X', 'XX.', 'XOO', 'OXX', '.XO', 'X.O', 'OXO', 'XXX']\n",
      "Coding complete? Click 'Check' to review your tests and earn cool rewards!\n"
     ]
    }
   ],
   "source": [
    "from typing import List\n",
    "\n",
    "\n",
    "def checkio(game_result):\n",
    "    sample = ''.join(game_result)\n",
    "    all_possibilities = (game_result +\n",
    "                         [sample[i::3] for i in range(3)] +\n",
    "                         [sample[0::4]] +\n",
    "                         [sample[2:7:2]])\n",
    "    print(all_possibilities)\n",
    "    if 'XXX' in all_possibilities:\n",
    "        return 'X'\n",
    "    elif 'OOO' in all_possibilities:\n",
    "        return 'O'\n",
    "    else:\n",
    "        return 'D'\n",
    "\n",
    "if __name__ == '__main__':\n",
    "    print(\"Example:\")\n",
    "    print(checkio([\"X.O\",\n",
    "                   \"XX.\",\n",
    "                   \"XOO\"]))\n",
    "\n",
    "    # These \"asserts\" using only for self-checking and not necessary for auto-testing\n",
    "    assert checkio([\n",
    "        \"X.O\",\n",
    "        \"XX.\",\n",
    "        \"XOO\"]) == \"X\", \"Xs wins\"\n",
    "    assert checkio([\n",
    "        \"OO.\",\n",
    "        \"XOX\",\n",
    "        \"XOX\"]) == \"O\", \"Os wins\"\n",
    "    assert checkio([\n",
    "        \"OOX\",\n",
    "        \"XXO\",\n",
    "        \"OXX\"]) == \"D\", \"Draw\"\n",
    "    assert checkio([\n",
    "        \"O.X\",\n",
    "        \"XX.\",\n",
    "        \"XOO\"]) == \"X\", \"Xs wins again\"\n",
    "    print(\"Coding complete? Click 'Check' to review your tests and earn cool rewards!\")"
   ]
  },
  {
   "cell_type": "code",
   "execution_count": null,
   "metadata": {},
   "outputs": [],
   "source": [
    "sample = \"X.OXX.XOO\"\n",
    "sample[2:7:2]: [开始元素：最后元素：取元素间隔]\n",
    "从第3个元素开始到第7个元素结束，不包含第7个元素，每2个取出一个来，即隔一个取一个。结果：['OXX']\n",
    "sample[0::4]：\n",
    "从第1个元素开始到最后一个元素结束，每隔4个取一个，即隔3个取一个。结果：['XXO']"
   ]
  }
 ],
 "metadata": {
  "kernelspec": {
   "display_name": "Python 3",
   "language": "python",
   "name": "python3"
  },
  "language_info": {
   "codemirror_mode": {
    "name": "ipython",
    "version": 3
   },
   "file_extension": ".py",
   "mimetype": "text/x-python",
   "name": "python",
   "nbconvert_exporter": "python",
   "pygments_lexer": "ipython3",
   "version": "3.6.5"
  }
 },
 "nbformat": 4,
 "nbformat_minor": 2
}
