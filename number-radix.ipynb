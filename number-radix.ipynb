{
 "cells": [
  {
   "cell_type": "code",
   "execution_count": null,
   "metadata": {},
   "outputs": [],
   "source": [
    "你是否还记得数学课上学过的底数（对数）和 计数系统（进制）? 让我们来重温练习一下吧。\n",
    "\n",
    "给你一个字符串格式的正数和一个小于37大于1的整数型底数，用你写出来的方法来把他们转换为底数为10（十进制）的形式。\n",
    "\n",
    "任务使用数字和‘A-Z’来作为字符串格式的正数。\n",
    "\n",
    "注意数字无法转换的情况。 例如：“1A”不能用基数9进行转换。对于这些情况，你的函数应该返回-1。\n",
    "\n",
    "输入: 两个参数，一个字符串参数的正数和一个整数参数底数。\n",
    "\n",
    "输出: 一个被转换完的十进制整数。\n",
    "\n",
    "举个栗子:\n",
    "\n",
    "checkio(\"AF\", 16) == 175\n",
    "checkio(\"101\", 2) == 5\n",
    "checkio(\"101\", 5) == 26\n",
    "checkio(\"Z\", 36) == 35\n",
    "checkio(\"AB\", 10) == -1\n",
    "\n",
    "你将学到: 在这个任务中你将学会如何处理各种不同进制的数据，以及一些处理异常等知识。\n",
    "\n",
    "Precondition: \n",
    "re.match(\"\\A[A-Z0-9]\\Z\", str_number)\n",
    "0 < len(str_number) ≤ 10\n",
    "2 ≤ radix ≤ 36"
   ]
  },
  {
   "cell_type": "code",
   "execution_count": null,
   "metadata": {},
   "outputs": [],
   "source": [
    "\n",
    "def checkio(str_number: str, radix: int) -> int:\n",
    "    try:  # 这里使用try是因为int容易引发一个ValueError使程序终止\n",
    "        return int(str_number, radix)  # python的int函数可以转换进制，第一位输入要转换的数字，第二位输入要转换的进制\n",
    "    except ValueError:\n",
    "        return -1\n",
    "\n",
    "\n",
    "# These \"asserts\" using only for self-checking and not necessary for auto-testing\n",
    "if __name__ == '__main__':\n",
    "    assert checkio(\"AF\", 16) == 175, \"Hex\"\n",
    "    assert checkio(\"101\", 2) == 5, \"Bin\"\n",
    "    assert checkio(\"101\", 5) == 26, \"5 base\"\n",
    "    assert checkio(\"Z\", 36) == 35, \"Z base\"\n",
    "    assert checkio(\"AB\", 10) == -1, \"B > A = 10\"\n",
    "    print(\"Coding complete? Click 'Check' to review your tests and earn cool rewards!\")\n"
   ]
  }
 ],
 "metadata": {
  "kernelspec": {
   "display_name": "Python 3",
   "language": "python",
   "name": "python3"
  },
  "language_info": {
   "codemirror_mode": {
    "name": "ipython",
    "version": 3
   },
   "file_extension": ".py",
   "mimetype": "text/x-python",
   "name": "python",
   "nbconvert_exporter": "python",
   "pygments_lexer": "ipython3",
   "version": "3.6.5"
  }
 },
 "nbformat": 4,
 "nbformat_minor": 2
}
