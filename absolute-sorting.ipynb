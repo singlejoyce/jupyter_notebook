{
 "cells": [
  {
   "cell_type": "code",
   "execution_count": null,
   "metadata": {},
   "outputs": [],
   "source": [
    "Let's try some sorting. Here is an array with the specific rules.\n",
    "\n",
    "The array (a tuple) has various numbers. You should sort it, but sort it by absolute value in ascending order. \n",
    "For example, the sequence (-20, -5, 10, 15) will be sorted like so: (-5, 10, 15, -20).\n",
    "Your function should return the sorted list or tuple.\n",
    "\n",
    "Precondition: The numbers in the array are unique by their absolute values.\n",
    "\n",
    "Input: An array of numbers , a tuple..\n",
    "\n",
    "Output: The list or tuple (but not a generator) sorted by absolute values in ascending order.\n",
    "\n",
    "Addition: The results of your function will be shown as a list in the tests explanation panel.\n",
    "\n",
    "Example:\n",
    "\n",
    "checkio((-20, -5, 10, 15)) == [-5, 10, 15, -20] # or (-5, 10, 15, -20)\n",
    "checkio((1, 2, 3, 0)) == [0, 1, 2, 3]\n",
    "checkio((-1, -2, -3, 0)) == [0, -1, -2, -3]\n",
    "\n",
    "How it is used: Sorting is a part of many tasks, so it will be useful to know how to use it.\n",
    "\n",
    "Precondition: len(set(abs(x) for x in array)) == len(array)\n",
    "0 < len(array) < 100\n",
    "all(isinstance(x, int) for x in array)\n",
    "all(-100 < x < 100 for x in array)"
   ]
  },
  {
   "cell_type": "code",
   "execution_count": null,
   "metadata": {},
   "outputs": [],
   "source": [
    "def checkio(numbers_array: tuple) -> list:\n",
    "    return sorted(numbers_array, key=abs)\n",
    "\n",
    "#These \"asserts\" using only for self-checking and not necessary for auto-testing\n",
    "if __name__ == '__main__':\n",
    "    def check_it(array):\n",
    "        if not isinstance(array, (list, tuple)):\n",
    "            raise TypeError(\"The result should be a list or tuple.\")\n",
    "        return list(array)\n",
    "\n",
    "    assert check_it(checkio((-20, -5, 10, 15))) == [-5, 10, 15, -20], \"Example\"  # or (-5, 10, 15, -20)\n",
    "    assert check_it(checkio((1, 2, 3, 0))) == [0, 1, 2, 3], \"Positive numbers\"\n",
    "    assert check_it(checkio((-1, -2, -3, 0))) == [0, -1, -2, -3], \"Negative numbers\"\n",
    "    print(\"Coding complete? Click 'Check' to review your tests and earn cool rewards!\")"
   ]
  }
 ],
 "metadata": {
  "kernelspec": {
   "display_name": "Python 3",
   "language": "python",
   "name": "python3"
  },
  "language_info": {
   "codemirror_mode": {
    "name": "ipython",
    "version": 3
   },
   "file_extension": ".py",
   "mimetype": "text/x-python",
   "name": "python",
   "nbconvert_exporter": "python",
   "pygments_lexer": "ipython3",
   "version": "3.6.5"
  }
 },
 "nbformat": 4,
 "nbformat_minor": 2
}
