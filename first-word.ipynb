{
 "cells": [
  {
   "cell_type": "code",
   "execution_count": null,
   "metadata": {},
   "outputs": [],
   "source": [
    "You are given a string where you have to find its first word.\n",
    "\n",
    "When solving a task pay attention to the following points:\n",
    "\n",
    "There can be dots and commas in a string.\n",
    "A string can start with a letter or, for example, a dot or space.\n",
    "A word can contain an apostrophe and it's a part of a word.\n",
    "The whole text can be represented with one word and that's it.\n",
    "Input: A string.\n",
    "\n",
    "Output: A string.\n",
    "\n",
    "Example:\n",
    "\n",
    "first_word(\"Hello world\") == \"Hello\"\n",
    "first_word(\"greetings, friends\") == \"greetings\"\n",
    "1\n",
    "2\n",
    "How it is used: the first word is a command in a command line\n",
    "\n",
    "Precondition: the text can contain a-z A-Z , . '\n",
    "\n",
    "您将获得一个字符串，您必须找到它的第一个单词。\n",
    "解决任务时要注意以下几点：\n",
    "字符串中可以有点和逗号。\n",
    "字符串可以以字母开头，例如点或空格。\n",
    "一个单词可以包含撇号，它是单词的一部分。\n",
    "整个文本可以用一个词来表示，就是这样。\n",
    "输入：一个字符串。\n",
    "输出：一个字符串。"
   ]
  },
  {
   "cell_type": "code",
   "execution_count": 1,
   "metadata": {},
   "outputs": [
    {
     "name": "stdout",
     "output_type": "stream",
     "text": [
      "Example:\n",
      "Hello\n",
      "Coding complete? Click 'Check' to earn cool rewards!\n"
     ]
    }
   ],
   "source": [
    "import re\n",
    "\n",
    "\n",
    "def first_word(text: str) -> str:\n",
    "    \"\"\"\n",
    "        returns the first word in a given text.\n",
    "    \"\"\"\n",
    "    # your code here\n",
    "    # code 1\n",
    "    # return text.strip().replace(',', ' ').replace('.', ' ').split()[0]\n",
    "    # code 2\n",
    "    return re.search(\"([\\w']+)\", text).group(1)\n",
    "    # code 3\n",
    "    # return re.search(\"[a-zA-Z']+\", text).group()\n",
    "\n",
    "if __name__ == '__main__':\n",
    "    print(\"Example:\")\n",
    "    print(first_word(\"Hello world\"))\n",
    "    \n",
    "    # These \"asserts\" are used for self-checking and not for an auto-testing\n",
    "    assert first_word(\"Hello world\") == \"Hello\"\n",
    "    assert first_word(\" a word \") == \"a\"\n",
    "    assert first_word(\"don't touch it\") == \"don't\"\n",
    "    assert first_word(\"greetings, friends\") == \"greetings\"\n",
    "    assert first_word(\"... and so on ...\") == \"and\"\n",
    "    assert first_word(\"hi\") == \"hi\"\n",
    "    assert first_word(\"Hello.World\") == \"Hello\"\n",
    "    print(\"Coding complete? Click 'Check' to earn cool rewards!\")"
   ]
  },
  {
   "cell_type": "code",
   "execution_count": null,
   "metadata": {},
   "outputs": [],
   "source": []
  }
 ],
 "metadata": {
  "kernelspec": {
   "display_name": "Python 3",
   "language": "python",
   "name": "python3"
  },
  "language_info": {
   "codemirror_mode": {
    "name": "ipython",
    "version": 3
   },
   "file_extension": ".py",
   "mimetype": "text/x-python",
   "name": "python",
   "nbconvert_exporter": "python",
   "pygments_lexer": "ipython3",
   "version": "3.6.5"
  }
 },
 "nbformat": 4,
 "nbformat_minor": 2
}
