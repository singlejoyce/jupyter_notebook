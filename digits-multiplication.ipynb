{
 "cells": [
  {
   "cell_type": "code",
   "execution_count": null,
   "metadata": {},
   "outputs": [],
   "source": [
    "给你一个正整数，请你写一个函数来实现：传入正整数的每一位（不包括00）的乘积\n",
    "\n",
    "例如：给你 123405， 你应该这样处理 1*2*3*4*5=120（别忘了把0丢掉）\n",
    "\n",
    "输入: 一个正整数.\n",
    "\n",
    "输出: 正整数的每一位的乘积\n",
    "\n",
    "举个栗子:\n",
    "\n",
    "checkio(123405) == 120\n",
    "checkio(999) == 729\n",
    "checkio(1000) == 1\n",
    "checkio(1111) == 1\n",
    "\n",
    "你将学到: 在这个任务中你将学会一些简单的数据类型的转换。\n",
    "\n",
    "前提条件: 0 < number < 10"
   ]
  },
  {
   "cell_type": "code",
   "execution_count": 1,
   "metadata": {},
   "outputs": [
    {
     "name": "stdout",
     "output_type": "stream",
     "text": [
      "int(i)=1\n",
      "sum=1\n",
      "int(i)=2\n",
      "sum=2\n",
      "int(i)=3\n",
      "sum=6\n",
      "int(i)=4\n",
      "sum=24\n",
      "int(i)=0\n",
      "int(i)=5\n",
      "sum=120\n",
      "int(i)=9\n",
      "sum=9\n",
      "int(i)=9\n",
      "sum=81\n",
      "int(i)=9\n",
      "sum=729\n",
      "int(i)=1\n",
      "sum=1\n",
      "int(i)=0\n",
      "int(i)=0\n",
      "int(i)=0\n",
      "int(i)=1\n",
      "sum=1\n",
      "int(i)=1\n",
      "sum=1\n",
      "int(i)=1\n",
      "sum=1\n",
      "int(i)=1\n",
      "sum=1\n",
      "Coding complete? Click 'Check' to review your tests and earn cool rewards!\n"
     ]
    }
   ],
   "source": [
    "def checkio(number: int) -> int:\n",
    "    sum = 1\n",
    "    for i in str(number):\n",
    "        print('int(i)=%s' % int(i))\n",
    "        if int(i) != 0:\n",
    "            sum = sum * int(i)\n",
    "            print('sum=%s' % sum)\n",
    "    return sum\n",
    "\n",
    "#These \"asserts\" using only for self-checking and not necessary for auto-testing\n",
    "if __name__ == '__main__':\n",
    "    assert checkio(123405) == 120\n",
    "    assert checkio(999) == 729\n",
    "    assert checkio(1000) == 1\n",
    "    assert checkio(1111) == 1\n",
    "    print(\"Coding complete? Click 'Check' to review your tests and earn cool rewards!\")"
   ]
  },
  {
   "cell_type": "code",
   "execution_count": null,
   "metadata": {},
   "outputs": [],
   "source": []
  }
 ],
 "metadata": {
  "kernelspec": {
   "display_name": "Python 3",
   "language": "python",
   "name": "python3"
  },
  "language_info": {
   "codemirror_mode": {
    "name": "ipython",
    "version": 3
   },
   "file_extension": ".py",
   "mimetype": "text/x-python",
   "name": "python",
   "nbconvert_exporter": "python",
   "pygments_lexer": "ipython3",
   "version": "3.6.5"
  }
 },
 "nbformat": 4,
 "nbformat_minor": 2
}
