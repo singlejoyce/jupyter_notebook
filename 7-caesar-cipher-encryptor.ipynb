{
 "cells": [
  {
   "cell_type": "code",
   "execution_count": null,
   "metadata": {},
   "outputs": [],
   "source": [
    "This mission is the part of the set. Another one - Caesar cipher decriptor.\n",
    "\n",
    "Your mission is to encrypt a secret message (text only, without special chars like \"!\", \"&\", \"?\" etc.) using Caesar cipher where each letter of input text is replaced by another that stands at a fixed distance. For example (\"a b c\", 3) == \"d e f\"\n",
    "\n",
    "example\n",
    "\n",
    "Input: A secret message as a string (lowercase letters only and white spaces)\n",
    "\n",
    "Output: The same string, but encrypted\n",
    "\n",
    "Example:\n",
    "\n",
    "to_encrypt(\"a b c\", 3) == \"d e f\"\n",
    "to_encrypt(\"a b c\", -3) == \"x y z\"\n",
    "to_encrypt(\"simple text\", 16) == \"iycfbu junj\"\n",
    "to_encrypt(\"important text\", 10) == \"swzybdkxd dohd\"\n",
    "to_encrypt(\"state secret\", -13) == \"fgngr frperg\"\n",
    "\n",
    "How it is used: For cryptography and to save important information.\n",
    "\n",
    "Precondition:\n",
    "0 < len(text) < 50\n",
    "-26 < delta < 26"
   ]
  },
  {
   "cell_type": "code",
   "execution_count": null,
   "metadata": {},
   "outputs": [],
   "source": [
    "\"\"\"\n",
    "ord() 函数是 chr() 函数（对于8位的ASCII字符串）或 unichr() 函数（对于Unicode对象）的配对函数，\n",
    "它以一个字符（长度为1的字符串）作为参数，返回对应的 ASCII 数值，或者 Unicode 数值，\n",
    "如果所给的 Unicode 字符超出了你的 Python 定义范围，则会引发一个 TypeError 的异常。\n",
    ">>>ord('a')\n",
    "97\n",
    ">>>ord('z')\n",
    "122\n",
    ">>>ord('A')\n",
    "65\n",
    ">>>ord('Z')\n",
    "90\n",
    "chr() 用一个范围在 range（256）内的（就是0～255）整数作参数，返回一个对应的字符。\n",
    ">>> print chr(48), chr(57), chr(97)         # 十进制\n",
    "0 9 a\n",
    "\"\"\""
   ]
  },
  {
   "cell_type": "code",
   "execution_count": 1,
   "metadata": {},
   "outputs": [
    {
     "name": "stdout",
     "output_type": "stream",
     "text": [
      "Example:\n",
      "tqxxa vakoql omz kag fqxx yq itke\n",
      "Coding complete? Click 'Check' to earn cool rewards!\n"
     ]
    }
   ],
   "source": [
    "def to_encrypt(text, delta):\n",
    "    cipher = ''\n",
    "    for char in text:\n",
    "        if char == ' ':\n",
    "            cipher = cipher + char\n",
    "        elif char.isupper():\n",
    "            cipher = cipher + chr((ord(char) + delta - 65) % 26 + 65)\n",
    "        else:\n",
    "            cipher = cipher + chr((ord(char) + delta - 97) % 26 + 97)\n",
    "    return cipher\n",
    "\n",
    "\n",
    "if __name__ == '__main__':\n",
    "    print(\"Example:\")\n",
    "    print(to_encrypt('hello joyce, can you tell me why?', 12))\n",
    "\n",
    "    # These \"asserts\" using only for self-checking and not necessary for auto-testing\n",
    "    assert to_encrypt(\"a b c\", 3) == \"d e f\"\n",
    "    assert to_encrypt(\"a b c\", -3) == \"x y z\"\n",
    "    assert to_encrypt(\"simple text\", 16) == \"iycfbu junj\"\n",
    "    assert to_encrypt(\"important text\", 10) == \"swzybdkxd dohd\"\n",
    "    assert to_encrypt(\"state secret\", -13) == \"fgngr frperg\"\n",
    "    print(\"Coding complete? Click 'Check' to earn cool rewards!\")\n"
   ]
  },
  {
   "cell_type": "code",
   "execution_count": null,
   "metadata": {},
   "outputs": [],
   "source": []
  }
 ],
 "metadata": {
  "kernelspec": {
   "display_name": "Python 3",
   "language": "python",
   "name": "python3"
  },
  "language_info": {
   "codemirror_mode": {
    "name": "ipython",
    "version": 3
   },
   "file_extension": ".py",
   "mimetype": "text/x-python",
   "name": "python",
   "nbconvert_exporter": "python",
   "pygments_lexer": "ipython3",
   "version": "3.6.5"
  }
 },
 "nbformat": 4,
 "nbformat_minor": 2
}
