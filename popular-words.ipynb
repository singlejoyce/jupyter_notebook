{
 "cells": [
  {
   "cell_type": "code",
   "execution_count": null,
   "metadata": {},
   "outputs": [],
   "source": [
    "In this mission your task is to determine the popularity of certain words in the text.\n",
    "\n",
    "At the input of your function are given 2 arguments: the text and the array of words the popularity of which you need to determine.\n",
    "\n",
    "When solving this task pay attention to the following points:\n",
    "\n",
    "The words should be sought in all registers. This means that if you need to find a word \"one\" then words like \"one\", \"One\", \"oNe\", \"ONE\" etc. will do.\n",
    "The search words are always indicated in the lowercase.\n",
    "If the word wasn’t found even once, it has to be returned in the dictionary with 0 (zero) value.\n",
    "Input: The text and the search words array.\n",
    "\n",
    "Output: The dictionary where the search words are the keys and values are the number of times when those words are occurring in a given text.\n",
    "\n",
    "Example:\n",
    "\n",
    "popular_words('''\n",
    "When I was One\n",
    "I had just begun\n",
    "When I was Two\n",
    "I was nearly new\n",
    "''', ['i', 'was', 'three', 'near']) == {\n",
    "    'i': 4,\n",
    "    'was': 3,\n",
    "    'three': 0,\n",
    "    'near': 0\n",
    "}\n",
    "\n",
    "Precondition:\n",
    "The input text will consists of English letters in uppercase and lowercase and whitespaces.\n",
    "\n",
    "\n",
    "在此任务中，您的任务是确定文本中某些单词的受欢迎程度。\n",
    "在函数的输入处给出了2个参数：文本和需要确定其受欢迎程度的单词数组。\n",
    "解决此任务时请注意以下几点：\n",
    "应在所有登记册中寻求这些词语。这意味着如果你需要找一个单词“one”，那么像“one”，“One”，“oNe”，“ONE”等单词就可以了。\n",
    "搜索词始终以小写字母表示。\n",
    "如果甚至没有找到该单词，则必须在字典中返回0（零）值。\n",
    "\n",
    "输入：文本和搜索词数组。\n",
    "输出：搜索单词是键的字典，值是给定文本中出现这些单词的次数。"
   ]
  },
  {
   "cell_type": "code",
   "execution_count": null,
   "metadata": {},
   "outputs": [],
   "source": []
  }
 ],
 "metadata": {
  "kernelspec": {
   "display_name": "Python 3",
   "language": "python",
   "name": "python3"
  },
  "language_info": {
   "codemirror_mode": {
    "name": "ipython",
    "version": 3
   },
   "file_extension": ".py",
   "mimetype": "text/x-python",
   "name": "python",
   "nbconvert_exporter": "python",
   "pygments_lexer": "ipython3",
   "version": "3.6.5"
  }
 },
 "nbformat": 4,
 "nbformat_minor": 2
}
