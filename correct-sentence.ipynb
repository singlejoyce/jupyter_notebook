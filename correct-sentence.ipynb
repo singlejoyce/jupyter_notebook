{
 "cells": [
  {
   "cell_type": "code",
   "execution_count": null,
   "metadata": {},
   "outputs": [],
   "source": [
    "For the input of your function will be given one sentence. You have to return its fixed copy in a way so it’s always starts with a capital letter and ends with a dot.\n",
    "\n",
    "Pay attention to the fact that not all of the fixes is necessary. If a sentence already ends with a dot then adding another one will be a mistake.\n",
    "\n",
    "Input: A string.\n",
    "\n",
    "Output: A string.\n",
    "\n",
    "Example:\n",
    "\n",
    "correct_sentence(\"greetings, friends\") == \"Greetings, friends.\"\n",
    "correct_sentence(\"Greetings, friends\") == \"Greetings, friends.\"\n",
    "correct_sentence(\"Greetings, friends.\") == \"Greetings, friends.\"\n",
    "\n",
    "Precondition: No leading and trailing spaces, text contains only spaces, a-z A-Z , and .\n",
    "    \n",
    "    \n",
    "对于您的功能输入将给出一个句子。您必须以某种方式返回其固定副本，因此它始终以大写字母开头并以点结尾。\n",
    "注意并非所有修复都是必要的。如果一个句子已经以点结尾，那么添加另一个将是一个错误。\n",
    "输入：一个字符串。\n",
    "输出：一个字符串。"
   ]
  },
  {
   "cell_type": "code",
   "execution_count": 1,
   "metadata": {},
   "outputs": [
    {
     "name": "stdout",
     "output_type": "stream",
     "text": [
      "Example:\n",
      "Greetings, friends.\n"
     ]
    }
   ],
   "source": [
    "def correct_sentence(text: str) -> str:\n",
    "    \"\"\"\n",
    "        returns a corrected sentence which starts with a capital letter\n",
    "        and ends with a dot.\n",
    "    \"\"\"\n",
    "    # your code here\n",
    "    # code 1\n",
    "    # return text[0].upper() + text[1:] + (\".\" if text[-1] != \".\" else \"\")\n",
    "    # code 2\n",
    "    if text.endswith('.') and text[0].isupper():\n",
    "        return text\n",
    "    else:\n",
    "        if text[0].isupper():\n",
    "            return text + '.'\n",
    "        else:\n",
    "            return text[0].upper() + text[1:] + '.'\n",
    "\n",
    "\n",
    "if __name__ == '__main__':\n",
    "    print(\"Example:\")\n",
    "    print(correct_sentence(\"greetings, friends\"))\n",
    "\n",
    "    # These \"asserts\" are used for self-checking and not for an auto-testing\n",
    "    assert correct_sentence(\"greetings, friends\") == \"Greetings, friends.\"\n",
    "    assert correct_sentence(\"Greetings, friends\") == \"Greetings, friends.\"\n",
    "    assert correct_sentence(\"Greetings, friends.\") == \"Greetings, friends.\"\n",
    "    assert correct_sentence(\"hi\") == \"Hi.\"\n",
    "    assert correct_sentence(\"welcome to New York\") == \"Welcome to New York.\"\n",
    "\n"
   ]
  },
  {
   "cell_type": "code",
   "execution_count": null,
   "metadata": {},
   "outputs": [],
   "source": []
  }
 ],
 "metadata": {
  "kernelspec": {
   "display_name": "Python 3",
   "language": "python",
   "name": "python3"
  },
  "language_info": {
   "codemirror_mode": {
    "name": "ipython",
    "version": 3
   },
   "file_extension": ".py",
   "mimetype": "text/x-python",
   "name": "python",
   "nbconvert_exporter": "python",
   "pygments_lexer": "ipython3",
   "version": "3.6.5"
  }
 },
 "nbformat": 4,
 "nbformat_minor": 2
}
